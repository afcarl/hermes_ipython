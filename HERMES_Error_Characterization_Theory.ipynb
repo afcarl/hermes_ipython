{
 "cells": [
  {
   "cell_type": "markdown",
   "metadata": {},
   "source": [
    "# Error Characterization of HERMES (Theory)\n",
    "Understanding the sources of error of an integrator is essential for many reasons. It makes debugging much faster, adding new modules much easier, and the simulation of systems more efficient. In this tutorial we go through the gory details of calculating the error associated with a particle leaving the Hill sphere of a planet in HERMES, $E_{scheme}^{HERMES}$. Refer to Silburt et al. (2016) for details.\n",
    "\n",
    "Here we will study is a restricted 3-body (R3B) system, consisting of an active central star, active planet and semi-active planetesimal. The planetesimal begins inside the $HSF$ boundary of the planet, and as it exits the Hill sphere we aim to calculate the error introduced into a simulation. \n",
    "\n",
    "We will use sympy to aid our computation (it's a lifesaver!). Do 'pip install sympy' if you don't already have it installed on your machine."
   ]
  },
  {
   "cell_type": "code",
   "execution_count": 1,
   "metadata": {
    "collapsed": false
   },
   "outputs": [],
   "source": [
    "from sympy import *\n",
    "init_printing()"
   ]
  },
  {
   "cell_type": "markdown",
   "metadata": {},
   "source": [
    "## Setup\n",
    "First, we must create the variables we will be using. Subscripts 0, 1 and 2 refer to the star, planetesimal and planet, respectively. Here we define:\n",
    "* G = Gravitational Constant\n",
    "* m = mass of body\n",
    "* Q = Democratic Heliocentric position vector\n",
    "* P = Democratic Heliocentric momentum vector\n",
    "* x = Cartesian 'x' position\n",
    "* y = Cartesian 'y' position\n",
    "* px = Cartesian 'x' momentum\n",
    "* py = Cartesian 'y' momentum\n",
    "* O,f,g = Since eventually we want to work in the limit that m0>>m2>>m1, O represents 'order of magnitude', while f and g relate to m1 and m2, respectively and allow us to track which O's come from which mass.\n",
    "* T = the timestep"
   ]
  },
  {
   "cell_type": "code",
   "execution_count": 27,
   "metadata": {
    "collapsed": false
   },
   "outputs": [],
   "source": [
    "#subscript 0 = star, 1 = planetesimal, 2 = planet\n",
    "G,m0,O,f,g,T = symbols(\"G,m0,O,f,g,T\")\n",
    "Q0,Q1,Q2,P0,P1,P2 = symbols(\"Q0,Q1,Q2,P0,P1,P2\")\n",
    "x1,y1,x2,y2,px1,py1,px2,py2 = symbols(\"x1,y1,x2,y2,px1,py1,px2,py2\")"
   ]
  },
  {
   "cell_type": "code",
   "execution_count": 3,
   "metadata": {
    "collapsed": false
   },
   "outputs": [],
   "source": [
    "#Create Democratic Heliocentric Position/Momentum vectors\n",
    "m1 = O*O*f\n",
    "m2 = O*g\n",
    "mtot = (m0 + m1 + m2)\n",
    "\n",
    "Q1 = sqrt(x1*x1 + y1*y1)\n",
    "Q2 = sqrt(x2*x2 + y2*y2)\n",
    "Q0 = (m1*Q1 + m2*Q2)/mtot\n",
    "\n",
    "P0 = sqrt(px1*px1 + py1*py1) + sqrt(px2*px2 + py2*py2)\n",
    "P1 = sqrt(px1*px1 + py1*py1) - m1*P0/mtot\n",
    "P2 = sqrt(px2*px2 + py2*py2) - m2*P0/mtot"
   ]
  },
  {
   "cell_type": "code",
   "execution_count": 4,
   "metadata": {
    "collapsed": false
   },
   "outputs": [],
   "source": [
    "#Create Hamiltonian components - see Duncan et al. (1998) for equations\n",
    "H_k = P1*P1/(2*m1) + P2*P2/(2*m2) - G*m1*m0/Q1 - G*m2*m0/Q2\n",
    "H_s = (P1 + P2)**2/(2*m0)\n",
    "H_i = -G*m1*m2/(Q2 - Q1)\n",
    "H_B = H_s + H_i        #See Wisdom (2006) for why "
   ]
  },
  {
   "cell_type": "code",
   "execution_count": 5,
   "metadata": {
    "collapsed": true
   },
   "outputs": [],
   "source": [
    "#uncomment the line below to see symbolic representation of these equations!\n",
    "#H_B"
   ]
  },
  {
   "cell_type": "markdown",
   "metadata": {},
   "source": [
    "## Calculate $H_{err}$\n",
    "\n",
    "Up to this point, we have created the Hamiltonian for the system in Democratic Heliocentric components in two dimensions, expressing everything in terms of cartesian co-ordinates. We now calculate (e.g. Saha and Tremaine, 1992):\n",
    "\n",
    "$$H_{err} = \\frac{T^2}{12}\\{\\{H_k,H_B\\},H_B + 0.5H_k \\}$$\n",
    "\n",
    "where $H_k$, and $H_B$ are defined above. We will carry forward the $T^2/12$ term until the very end."
   ]
  },
  {
   "cell_type": "code",
   "execution_count": 6,
   "metadata": {
    "collapsed": false
   },
   "outputs": [],
   "source": [
    "D0 = diff(H_k,x1)*diff(H_B,px1) - diff(H_k,px1)*diff(H_B,x1) #first terms are 0\n",
    "D1 = diff(H_k,y1)*diff(H_B,py1) - diff(H_k,py1)*diff(H_B,y1) \n",
    "D2 = diff(H_k,x2)*diff(H_B,px2) - diff(H_k,px2)*diff(H_B,x2) \n",
    "D3 = diff(H_k,y2)*diff(H_B,py2) - diff(H_k,py2)*diff(H_B,y2) \n",
    "D = D0+D1+D2+D3\n",
    "\n",
    "B = 0.5*H_k + H_B\n",
    "B0 = diff(D,x1)*diff(B,px1) - diff(D,px1)*diff(B,x1) #first terms are 0\n",
    "B1 = diff(D,y1)*diff(B,py1) - diff(D,py1)*diff(B,y1) \n",
    "B2 = diff(D,x2)*diff(B,px2) - diff(D,px2)*diff(B,x2) \n",
    "B3 = diff(D,y2)*diff(B,py2) - diff(D,py2)*diff(B,y2)\n",
    "\n",
    "result_raw = B0+B1+B2+B3"
   ]
  },
  {
   "cell_type": "markdown",
   "metadata": {},
   "source": [
    "## Massaging/Simplifying\n",
    "If you display result_raw, you'll see that it's one big mess (it will take a super long time to load too!).\n",
    "\n",
    "This raw result needs to be greatly simplified. The remainder of this notebook constitute a number of massaging/simplifying steps to arrive at something meaningful. Since we are going to expand and simplify, we need to keep track of important terms, like $(r_2 - r_1)$. To do this, we make a symbolic substitution, setting $(r_2 - r_1) = H$. We also make a few assumptions:\n",
    "* Order of magnitude limits, i.e. $x = y = r$, $vx = vy = v$, etc.\n",
    "* Assume that $v_2 \\approx v_1 = v$.\n",
    "* $r_2 = a_2$, where $a_2$ is the semi-major axis of the planet and $r_2$ is the position of the planet (when e=0 this is exactly true)."
   ]
  },
  {
   "cell_type": "code",
   "execution_count": 19,
   "metadata": {
    "collapsed": false
   },
   "outputs": [],
   "source": [
    "#make a few initial substitutions to simplify the expression.\n",
    "result = result_raw\n",
    "\n",
    "r0,r1,r2,v,vx1,vy1,vx2,vy2,H,a2 = symbols(\"r0,r1,r2,v,vx1,vy1,vx2,vy2,H,a2\")\n",
    "result = result.subs({sqrt(x1**2 + y1**2):r1,sqrt(x2**2 + y2**2):r2,sqrt(px1**2 + py1**2):m1*v,sqrt(px2**2 + py2**2):m2*v})\n",
    "result = result.subs({-r1 + r2:H,r1:a2-H,r2:a2})\n",
    "result = result.subs({O**2*f + O*g + m0:m0, O**2*f*v + O*g*v:O*g*v})"
   ]
  },
  {
   "cell_type": "code",
   "execution_count": 20,
   "metadata": {
    "collapsed": false
   },
   "outputs": [],
   "source": [
    "#expand the expression\n",
    "resulte = expand(result)"
   ]
  },
  {
   "cell_type": "code",
   "execution_count": 21,
   "metadata": {
    "collapsed": false
   },
   "outputs": [
    {
     "data": {
      "image/png": "[encoded data removed]",
      "text/latex": [
       "$$\\frac{1.0 G^{2} O^{2} g}{H^{3} a_{2}^{4} \\left(1.0 H^{6} - 6.0 H^{5} a_{2} + 15.0 H^{4} a_{2}^{2} - 20.0 H^{3} a_{2}^{3} + 15.0 H^{2} a_{2}^{4} - 6.0 H a_{2}^{5} + 1.0 a_{2}^{6}\\right)} \\left(12.0 H^{9} O g^{2} - 6.0 H^{9} g m_{0} - 72.0 H^{8} O a_{2} g^{2} + 36.0 H^{8} a_{2} g m_{0} + 2.0 H^{7} O a_{2}^{2} f m_{0} + 180.0 H^{7} O a_{2}^{2} g^{2} - 90.0 H^{7} a_{2}^{2} g m_{0} - 4.0 H^{6} O a_{2}^{3} f m_{0} - 240.0 H^{6} O a_{2}^{3} g^{2} + 120.0 H^{6} a_{2}^{3} g m_{0} + 2.0 H^{5} O a_{2}^{4} f m_{0} + 180.0 H^{5} O a_{2}^{4} g^{2} - 90.0 H^{5} a_{2}^{4} g m_{0} - 8.0 H^{4} O a_{2}^{5} f m_{0} - 72.0 H^{4} O a_{2}^{5} g^{2} + 36.0 H^{4} a_{2}^{5} g m_{0} + 24.0 H^{3} O a_{2}^{6} f m_{0} + 12.0 H^{3} O a_{2}^{6} g^{2} - 6.0 H^{3} a_{2}^{6} g m_{0} - 30.0 H^{2} O a_{2}^{7} f m_{0} + 17.0 H O a_{2}^{8} f m_{0} - 4.0 O a_{2}^{9} f m_{0}\\right)$$"
      ],
      "text/plain": [
       "     2  2   ⎛      9    2        9              8       2         8           \n",
       "1.0⋅G ⋅O ⋅g⋅⎝12.0⋅H ⋅O⋅g  - 6.0⋅H ⋅g⋅m₀ - 72.0⋅H ⋅O⋅a₂⋅g  + 36.0⋅H ⋅a₂⋅g⋅m₀ + \n",
       "──────────────────────────────────────────────────────────────────────────────\n",
       "                                                                              \n",
       "                                                                              \n",
       "\n",
       "     7     2               7     2  2         7   2             6     3       \n",
       "2.0⋅H ⋅O⋅a₂ ⋅f⋅m₀ + 180.0⋅H ⋅O⋅a₂ ⋅g  - 90.0⋅H ⋅a₂ ⋅g⋅m₀ - 4.0⋅H ⋅O⋅a₂ ⋅f⋅m₀ -\n",
       "──────────────────────────────────────────────────────────────────────────────\n",
       "                                                                              \n",
       "                                                                              \n",
       "\n",
       "        6     3  2          6   3             5     4               5     4  2\n",
       " 240.0⋅H ⋅O⋅a₂ ⋅g  + 120.0⋅H ⋅a₂ ⋅g⋅m₀ + 2.0⋅H ⋅O⋅a₂ ⋅f⋅m₀ + 180.0⋅H ⋅O⋅a₂ ⋅g \n",
       "──────────────────────────────────────────────────────────────────────────────\n",
       "             3   4 ⎛     6        5            4   2         3   3         2  \n",
       "            H ⋅a₂ ⋅⎝1.0⋅H  - 6.0⋅H ⋅a₂ + 15.0⋅H ⋅a₂  - 20.0⋅H ⋅a₂  + 15.0⋅H ⋅a\n",
       "\n",
       "         5   4             4     5              4     5  2         4   5      \n",
       " - 90.0⋅H ⋅a₂ ⋅g⋅m₀ - 8.0⋅H ⋅O⋅a₂ ⋅f⋅m₀ - 72.0⋅H ⋅O⋅a₂ ⋅g  + 36.0⋅H ⋅a₂ ⋅g⋅m₀ \n",
       "──────────────────────────────────────────────────────────────────────────────\n",
       " 4           5         6⎞                                                     \n",
       "₂  - 6.0⋅H⋅a₂  + 1.0⋅a₂ ⎠                                                     \n",
       "\n",
       "        3     6              3     6  2        3   6              2     7     \n",
       "+ 24.0⋅H ⋅O⋅a₂ ⋅f⋅m₀ + 12.0⋅H ⋅O⋅a₂ ⋅g  - 6.0⋅H ⋅a₂ ⋅g⋅m₀ - 30.0⋅H ⋅O⋅a₂ ⋅f⋅m₀\n",
       "──────────────────────────────────────────────────────────────────────────────\n",
       "                                                                              \n",
       "                                                                              \n",
       "\n",
       "              8                9     ⎞\n",
       " + 17.0⋅H⋅O⋅a₂ ⋅f⋅m₀ - 4.0⋅O⋅a₂ ⋅f⋅m₀⎠\n",
       "──────────────────────────────────────\n",
       "                                      \n",
       "                                      "
      ]
     },
     "execution_count": 21,
     "metadata": {},
     "output_type": "execute_result"
    }
   ],
   "source": [
    "#assume order of magnitudes, i.e. x1 = y1 = r1, vx1 = vx2 = v, vy1 = vy2 = v\n",
    "resulte = resulte.subs({x1:a2-H, y1:a2-H, x2:a2, y2:a2}) \n",
    "resulte = resulte.subs({px1:m1*v, py1:m1*v, px2:m2*v, py2:m2*v})\n",
    "\n",
    "#Work in the limit of m0>>m2>>m1\n",
    "resulte = resulte.subs({O**13:0,O**11:0,O**10:0,O**9:0,O**8:0,O**7:0,O**6:0,O**5:0,O**4:0})\n",
    "\n",
    "#collect terms\n",
    "resulte = collect(resulte,O)\n",
    "\n",
    "#assume Keplerian velocity for both planet and planetesimal\n",
    "resulte = simplify(resulte.subs({v**2:G*m0/a2, -H+a2:a2}))\n",
    "\n",
    "resulte"
   ]
  },
  {
   "cell_type": "markdown",
   "metadata": {},
   "source": [
    "Finally, since $H \\ll a$, we take the leading term in parentheses (numerator and denominator), and add back the $T^2/12$ term, leaving us with:"
   ]
  },
  {
   "cell_type": "code",
   "execution_count": 29,
   "metadata": {
    "collapsed": false
   },
   "outputs": [
    {
     "data": {
      "image/png": "[encoded data removed]",
      "text/latex": [
       "$$\\frac{G^{2} O^{3} T^{2} f g m_{0}}{12 H^{3} a_{2}}$$"
      ],
      "text/plain": [
       " 2  3  2       \n",
       "G ⋅O ⋅T ⋅f⋅g⋅m₀\n",
       "───────────────\n",
       "        3      \n",
       "    12⋅H ⋅a₂   "
      ]
     },
     "execution_count": 29,
     "metadata": {},
     "output_type": "execute_result"
    }
   ],
   "source": [
    "#take leading terms (H << a)\n",
    "final = T**2*G**2*O**2*g*O*a2**9*f*m0/(12*H**3*a2**10)\n",
    "final"
   ]
  },
  {
   "cell_type": "markdown",
   "metadata": {},
   "source": [
    "This is analogous to the expression found in Silburt et al. (2016):\n",
    "\n",
    "$$H_err = \\frac{\\tau^2}{12}\\frac{G^2m_0m_1m_2}{a_2(r_{H,2}\\kappa_{HSF})^3}$$"
   ]
  }
 ],
 "metadata": {
  "kernelspec": {
   "display_name": "Python 2",
   "language": "python",
   "name": "python2"
  },
  "language_info": {
   "codemirror_mode": {
    "name": "ipython",
    "version": 2
   },
   "file_extension": ".py",
   "mimetype": "text/x-python",
   "name": "python",
   "nbconvert_exporter": "python",
   "pygments_lexer": "ipython2",
   "version": "2.7.11"
  }
 },
 "nbformat": 4,
 "nbformat_minor": 0
}
